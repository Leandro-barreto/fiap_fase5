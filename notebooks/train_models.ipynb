{
 "cells": [
  {
   "cell_type": "markdown",
   "id": "b3c82816",
   "metadata": {},
   "source": [
    "# Treino de modelos – Classificação de Contratação"
   ]
  },
  {
   "cell_type": "markdown",
   "id": "3e8a79c9",
   "metadata": {},
   "source": [
    "Este notebook treina Logistic Regression e LightGBM, com split temporal e SHAP."
   ]
  },
  {
   "cell_type": "code",
   "execution_count": null,
   "id": "dee8c31b",
   "metadata": {},
   "outputs": [],
   "source": [
    "!pip -q install lightgbm shap"
   ]
  },
  {
   "cell_type": "code",
   "execution_count": null,
   "id": "0b848a99",
   "metadata": {},
   "outputs": [],
   "source": [
    "\n",
    "from pathlib import Path\n",
    "import json, sys\n",
    "import numpy as np, pandas as pd, matplotlib.pyplot as plt\n",
    "from sklearn.model_selection import train_test_split\n",
    "from sklearn.preprocessing import OneHotEncoder, StandardScaler\n",
    "from sklearn.compose import ColumnTransformer\n",
    "from sklearn.pipeline import Pipeline\n",
    "from sklearn.metrics import roc_auc_score, average_precision_score, precision_recall_curve, roc_curve, f1_score, classification_report\n",
    "from sklearn.linear_model import LogisticRegression\n",
    "import lightgbm as lgb, shap, joblib\n",
    "\n",
    "DATA_RAW = Path(\"../data/raw\"); DATA_PROC = Path(\"../data/processed\"); DATA_PROC.mkdir(parents=True, exist_ok=True)\n",
    "sys.path.append(str(Path(\"../\").resolve())); sys.path.append(str(Path(\"../src\").resolve()))\n",
    "from src.data.prepare_data import build_dataset\n"
   ]
  },
  {
   "cell_type": "code",
   "execution_count": null,
   "id": "537e537a",
   "metadata": {},
   "outputs": [],
   "source": [
    "\n",
    "X, y, meta, df_full = build_dataset(DATA_RAW, out_dir=DATA_PROC)\n",
    "meta\n"
   ]
  },
  {
   "cell_type": "code",
   "execution_count": null,
   "id": "1bdf0793",
   "metadata": {},
   "outputs": [],
   "source": [
    "\n",
    "date_col = \"ultima_atualizacao\" if \"ultima_atualizacao\" in df_full.columns else \"data_candidatura\"\n",
    "dates = pd.to_datetime(df_full[date_col], errors=\"coerce\")\n",
    "cut = dates.quantile(0.8)\n",
    "train_idx = dates <= cut; test_idx = dates > cut\n",
    "X_train, X_test = X.loc[train_idx].reset_index(drop=True), X.loc[test_idx].reset_index(drop=True)\n",
    "y_train, y_test = y.loc[train_idx].reset_index(drop=True), y.loc[test_idx].reset_index(drop=True)\n",
    "print(\"Train:\", X_train.shape, \" Test:\", X_test.shape, \" cut:\", cut)\n"
   ]
  },
  {
   "cell_type": "code",
   "execution_count": null,
   "id": "d3f0d29d",
   "metadata": {},
   "outputs": [],
   "source": [
    "\n",
    "num_cols, cat_cols, id_cols = meta[\"num_cols\"], meta[\"cat_cols\"], meta[\"id_cols\"]\n",
    "preprocess = ColumnTransformer([\n",
    "    (\"num\", StandardScaler(with_mean=False), num_cols),\n",
    "    (\"cat\", OneHotEncoder(handle_unknown=\"ignore\", min_frequency=10), cat_cols),\n",
    "], remainder=\"drop\", sparse_threshold=0.3)\n",
    "logreg = Pipeline([(\"prep\", preprocess), (\"clf\", LogisticRegression(max_iter=2000, class_weight=\"balanced\"))])\n",
    "lgbm_clf = Pipeline([(\"prep\", preprocess), (\"clf\", lgb.LGBMClassifier(n_estimators=600, learning_rate=0.03, subsample=0.8, colsample_bytree=0.8, reg_lambda=1.0, random_state=42, class_weight=\"balanced\"))])\n"
   ]
  },
  {
   "cell_type": "code",
   "execution_count": null,
   "id": "1d83422b",
   "metadata": {},
   "outputs": [],
   "source": [
    "\n",
    "def evaluate(model, Xtr, ytr, Xte, yte, name=\"model\"):\n",
    "    model.fit(Xtr, ytr)\n",
    "    p_tr = model.predict_proba(Xtr)[:,1]; p_te = model.predict_proba(Xte)[:,1]\n",
    "    roc_tr, roc_te = roc_auc_score(ytr, p_tr), roc_auc_score(yte, p_te)\n",
    "    pr_tr, pr_te = average_precision_score(ytr, p_tr), average_precision_score(yte, p_te)\n",
    "    print(f\"{name} — ROC_AUC train={roc_tr:.3f} test={roc_te:.3f} | PR_AUC train={pr_tr:.3f} test={pr_te:.3f}\")\n",
    "    prec, rec, thr = precision_recall_curve(yte, p_te); f1s = 2*prec*rec/(prec+rec+1e-9)\n",
    "    best_idx = f1s.argmax(); best_thr = thr[max(0, best_idx-1)] if len(thr)>0 else 0.5\n",
    "    y_pred = (p_te >= best_thr).astype(int)\n",
    "    print(f\"Best threshold (F1) = {best_thr:.3f}\"); print(classification_report(yte, y_pred, digits=3))\n",
    "    fpr, tpr, _ = roc_curve(yte, p_te); plt.figure(figsize=(5,4)); plt.plot(fpr, tpr); plt.plot([0,1],[0,1],'--'); plt.title(f\"ROC — {name}\"); plt.xlabel(\"FPR\"); plt.ylabel(\"TPR\"); plt.grid(True); plt.show()\n",
    "    plt.figure(figsize=(5,4)); plt.plot(rec, prec); plt.title(f\"PR — {name}\"); plt.xlabel(\"Recall\"); plt.ylabel(\"Precision\"); plt.grid(True); plt.show()\n",
    "    return {\"model\": model, \"best_thr\": float(best_thr)}\n",
    "\n",
    "res_lr  = evaluate(logreg,   X_train, y_train, X_test, y_test, name=\"LogReg\")\n",
    "res_lgb = evaluate(lgbm_clf, X_train, y_train, X_test, y_test, name=\"LightGBM\")\n"
   ]
  },
  {
   "cell_type": "code",
   "execution_count": null,
   "id": "a4f6400c",
   "metadata": {},
   "outputs": [],
   "source": [
    "\n",
    "prep = lgbm_clf.named_steps[\"prep\"]; clf = lgbm_clf.named_steps[\"clf\"]\n",
    "Xte_trans = prep.transform(X_test)\n",
    "explainer = shap.TreeExplainer(clf); shap_values = explainer.shap_values(Xte_trans)\n",
    "shap.summary_plot(shap_values, Xte_trans, max_display=20, show=False); plt.show()\n",
    "\n",
    "from pathlib import Path\n",
    "import json, joblib\n",
    "ARTIF_DIR = Path(\"../models\"); ARTIF_DIR.mkdir(parents=True, exist_ok=True)\n",
    "joblib.dump(logreg, ARTIF_DIR / \"logreg_pipeline.joblib\")\n",
    "joblib.dump(lgbm_clf, ARTIF_DIR / \"lgbm_pipeline.joblib\")\n",
    "with open(ARTIF_DIR / \"metadata.json\",\"w\",encoding=\"utf-8\") as f:\n",
    "    json.dump({\"id_cols\": id_cols, \"num_cols\": num_cols, \"cat_cols\": cat_cols, \"threshold_lgbm\": res_lgb[\"best_thr\"]}, f, ensure_ascii=False, indent=2)\n",
    "print(\"Artefatos salvos em ../models\")\n"
   ]
  }
 ],
 "metadata": {},
 "nbformat": 4,
 "nbformat_minor": 5
}